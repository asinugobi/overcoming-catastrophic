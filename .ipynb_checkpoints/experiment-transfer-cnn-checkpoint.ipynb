{
 "cells": [
  {
   "cell_type": "markdown",
   "metadata": {},
   "source": [
    "#### Train a single network on MNIST 0-4, then transfer to MNIST 5-9"
   ]
  },
  {
   "cell_type": "code",
   "execution_count": 1,
   "metadata": {},
   "outputs": [],
   "source": [
    "# automatically reload edited modules\n",
    "%load_ext autoreload\n",
    "%autoreload 2"
   ]
  },
  {
   "cell_type": "code",
   "execution_count": 2,
   "metadata": {},
   "outputs": [],
   "source": [
    "import tensorflow as tf\n",
    "import numpy as np\n",
    "from copy import deepcopy\n",
    "from tensorflow.examples.tutorials.mnist import input_data"
   ]
  },
  {
   "cell_type": "code",
   "execution_count": 3,
   "metadata": {
    "scrolled": true
   },
   "outputs": [],
   "source": [
    "%matplotlib inline\n",
    "import matplotlib.pyplot as plt\n",
    "import matplotlib.image as mpimg\n",
    "from data_handler import DataHandler \n",
    "from IPython import display"
   ]
  },
  {
   "cell_type": "code",
   "execution_count": 4,
   "metadata": {},
   "outputs": [],
   "source": [
    "# import class Model\n",
    "# from model import Model\n",
    "from model2 import Model"
   ]
  },
  {
   "cell_type": "code",
   "execution_count": 5,
   "metadata": {},
   "outputs": [],
   "source": [
    "# mnist imshow convenience function\n",
    "# input is a 1D array of length 784\n",
    "def mnist_imshow(img):\n",
    "    plt.imshow(img.reshape([28,28]), cmap=\"gray\")\n",
    "    plt.axis('off')\n",
    "\n",
    "# return a new mnist dataset w/ pixels randomly permuted\n",
    "def permute_mnist(mnist):\n",
    "    perm_inds = range(mnist.train.images.shape[1])\n",
    "    np.random.shuffle(perm_inds)\n",
    "    mnist2 = deepcopy(mnist)\n",
    "    sets = [\"train\", \"validation\", \"test\"]\n",
    "    for set_name in sets:\n",
    "        this_set = getattr(mnist2, set_name) # shallow copy\n",
    "        this_set._images = np.transpose(np.array([this_set.images[:,c] for c in perm_inds]))\n",
    "    return mnist2"
   ]
  },
  {
   "cell_type": "code",
   "execution_count": 6,
   "metadata": {},
   "outputs": [],
   "source": [
    "# classification accuracy plotting\n",
    "def plot_test_acc(plot_handles):\n",
    "    plt.legend(handles=plot_handles, loc=\"center right\")\n",
    "    plt.xlabel(\"Iterations\")\n",
    "    plt.ylabel(\"Test Accuracy\")\n",
    "    plt.ylim(0,1)\n",
    "    display.display(plt.gcf())\n",
    "    display.clear_output(wait=True)\n",
    "    \n",
    "# train/compare vanilla sgd and ewc\n",
    "def train_task(model, num_iter, disp_freq, trainset, testsets, x, y_, lams=[0]):\n",
    "    for l in range(len(lams)):\n",
    "        # lams[l] sets weight on old task(s)\n",
    "        model.restore(sess) # reassign optimal weights from previous training session\n",
    "        if(lams[l] == 0):\n",
    "            model.set_vanilla_loss()\n",
    "        else:\n",
    "            model.update_ewc_loss(lams[l])\n",
    "        # initialize test accuracy array for each task \n",
    "        test_accs = []\n",
    "        for task in range(len(testsets)):\n",
    "            test_accs.append(np.zeros(num_iter/disp_freq))\n",
    "        # train on current task\n",
    "        for iter in range(num_iter):\n",
    "            batch_size = 128 \n",
    "            batch = trainset.train.next_batch(batch_size)\n",
    "            model.train_step.run(feed_dict={x: batch[0], y_: batch[1]})\n",
    "            if iter % disp_freq == 0:\n",
    "                plt.subplot(1, len(lams), l+1)\n",
    "                plots = []\n",
    "                colors = ['r', 'b', 'g']\n",
    "                for task in range(len(testsets)):\n",
    "                    feed_dict={x: testsets[task].test.images, y_: testsets[task].test.labels}\n",
    "                    test_accs[task][iter/disp_freq] = model.accuracy.eval(feed_dict=feed_dict)\n",
    "                    c = chr(ord('A') + task)\n",
    "                    plot_h, = plt.plot(range(1,iter+2,disp_freq), test_accs[task][:iter/disp_freq+1], colors[task], label=\"task \" + c)\n",
    "                    plots.append(plot_h)\n",
    "                plot_test_acc(plots)\n",
    "                if l == 0: \n",
    "                    plt.title(\"vanilla sgd\")\n",
    "                else:\n",
    "                    plt.title(\"ewc\")\n",
    "                plt.gcf().set_size_inches(len(lams)*5, 3.5)"
   ]
  },
  {
   "cell_type": "code",
   "execution_count": 7,
   "metadata": {},
   "outputs": [],
   "source": [
    "def train_task2(model, num_iter, disp_freq, trainset, testsets, x, y_, lams=[0]):\n",
    "    for l in range(len(lams)):\n",
    "        # lams[l] sets weight on old task(s)\n",
    "        model.restore(sess) # reassign optimal weights from previous training session\n",
    "        if(lams[l] == 0):\n",
    "            model.set_vanilla_loss()\n",
    "        else:\n",
    "            model.update_ewc_loss(lams[l])\n",
    "        # initialize test accuracy array for each task \n",
    "        test_accs = []\n",
    "        for task in range(len(testsets)):\n",
    "            test_accs.append(np.zeros(num_iter/disp_freq))\n",
    "        # train on current task\n",
    "        with sess.as_default(): \n",
    "#             sess.run(tf.global_variables_initializer())\n",
    "            for iter in range(num_iter):\n",
    "                batch_size = 128 \n",
    "                batch = trainset.train.next_batch(batch_size)\n",
    "    #             model.train_step.run(feed_dict={x: batch[0], y_: batch[1], model.phase: 1, model.dropout: 0.75})\n",
    "                sess.run(model.train_step,feed_dict={x: batch[0], y_: batch[1], model.phase: 1, model.dropout: 0.75})\n",
    "                if iter % disp_freq == 0:\n",
    "                    plt.subplot(1, len(lams), l+1)\n",
    "                    plots = []\n",
    "                    colors = ['r', 'b', 'g']\n",
    "                    for task in range(len(testsets)):\n",
    "                        feed_dict={x: testsets[task].test.images, y_: testsets[task].test.labels, model.phase: 0, model.dropout: 0.75}\n",
    "                        test_accs[task][iter/disp_freq] = model.accuracy.eval(feed_dict=feed_dict)\n",
    "                        c = chr(ord('A') + task)\n",
    "                        plot_h, = plt.plot(range(1,iter+2,disp_freq), test_accs[task][:iter/disp_freq+1], colors[task], label=\"task \" + c)\n",
    "                        plots.append(plot_h)\n",
    "                    plot_test_acc(plots)\n",
    "                    if l == 0: \n",
    "                        plt.title(\"vanilla sgd\")\n",
    "                    else:\n",
    "                        plt.title(\"ewc\")\n",
    "                    plt.gcf().set_size_inches(len(lams)*5, 3.5)"
   ]
  },
  {
   "cell_type": "code",
   "execution_count": 8,
   "metadata": {},
   "outputs": [],
   "source": [
    "def compute_fisher(imgset, sess, num_samples=200, plot_diffs=False, disp_freq=10):\n",
    "    model.F_accum = []\n",
    "    for v in range(len(model.var_list)):\n",
    "        model.F_accum.append(np.zeros(model.var_list[v].get_shape().as_list()))\n",
    "\n",
    "    # sampling a random class from softmax\n",
    "    probs = tf.nn.softmax(model.y)\n",
    "    class_ind = tf.to_int32(tf.multinomial(tf.log(probs), 1)[0][0])\n",
    "\n",
    "    if(plot_diffs):\n",
    "        # track differences in mean Fisher info\n",
    "        F_prev = deepcopy(model.F_accum)\n",
    "        mean_diffs = np.zeros(0)\n",
    "\n",
    "    for i in range(num_samples):\n",
    "        # select random input image\n",
    "        im_ind = np.random.randint(imgset.images.shape[0])\n",
    "\n",
    "        # compute first-order derivatives\n",
    "        feed_dict={\n",
    "            # self.y: imgset.labels[im_ind:im_ind + 1],\n",
    "            model.x: imgset.images[im_ind:im_ind + 1], \n",
    "            model.phase: 1, \n",
    "            model.dropout: 0.75}\n",
    "\n",
    "        log_likelihood = tf.log(probs[0,class_ind])\n",
    "        # gradients = self.compute_gradients(log_likelihood, self.var_list) \n",
    "        gradients = tf.gradients(log_likelihood, model.var_list)\n",
    "        \n",
    "        \n",
    "        for var, grad in zip(model.var_list, gradients):\n",
    "            if grad is None: \n",
    "                print(var)\n",
    "                print(var.eval())\n",
    "                print(grad)\n",
    "                model.var_list.remove(var)\n",
    "                gradients.remove(grad)\n",
    "        \n",
    "        ders = sess.run(gradients, feed_dict=feed_dict)\n",
    "\n",
    "        # square the derivatives and add to total\n",
    "        for v in range(len(model.F_accum)):\n",
    "            model.F_accum[v] += np.square(ders[v])\n",
    "        if(plot_diffs):\n",
    "            if i % disp_freq == 0 and i > 0:\n",
    "                # recording mean diffs of F\n",
    "                F_diff = 0\n",
    "                for v in range(len(model.F_accum)):\n",
    "                    F_diff += np.sum(np.absolute(model.F_accum[v]/(i+1) - F_prev[v]))\n",
    "                mean_diff = np.mean(F_diff)\n",
    "                mean_diffs = np.append(mean_diffs, mean_diff)\n",
    "                for v in range(len(model.F_accum)):\n",
    "                    F_prev[v] = model.F_accum[v]/(i+1)\n",
    "                plt.plot(range(disp_freq+1, i+2, disp_freq), mean_diffs)\n",
    "                plt.xlabel(\"Number of samples\")\n",
    "                plt.ylabel(\"Mean absolute Fisher difference\")\n",
    "                display.display(plt.gcf())\n",
    "                display.clear_output(wait=True)\n",
    "\n",
    "    # divide totals by number of samples\n",
    "    for v in range(len(model.F_accum)):\n",
    "        model.F_accum[v] /= num_samples\n"
   ]
  },
  {
   "cell_type": "code",
   "execution_count": 9,
   "metadata": {},
   "outputs": [
    {
     "name": "stdout",
     "output_type": "stream",
     "text": [
      "Extracting MNIST_data/train-images-idx3-ubyte.gz\n",
      "Extracting MNIST_data/train-labels-idx1-ubyte.gz\n",
      "Extracting MNIST_data/t10k-images-idx3-ubyte.gz\n",
      "Extracting MNIST_data/t10k-labels-idx1-ubyte.gz\n"
     ]
    }
   ],
   "source": [
    "mnist = input_data.read_data_sets('MNIST_data', one_hot=True)\n",
    "# print(mnist.train.images.shape)\n",
    "# data_handler = DataHandler('mnist')\n",
    "# mnist, mnist2 = data_handler.split_dataset(validation_size=3000)\n",
    "# print(mnist.train.images.shape)\n",
    "# print(mnist2.train.images.shape)\n",
    "# test = 10\n",
    "# mnist_imshow(mnist.train.images[test])\n",
    "# print(mnist.train.labels[test])\n"
   ]
  },
  {
   "cell_type": "code",
   "execution_count": 10,
   "metadata": {},
   "outputs": [],
   "source": [
    "sess = tf.InteractiveSession()\n",
    "# sess = tf.Session() "
   ]
  },
  {
   "cell_type": "code",
   "execution_count": 11,
   "metadata": {},
   "outputs": [],
   "source": [
    "# define input and target placeholders\n",
    "x = tf.placeholder(tf.float32, shape=[None, 784])\n",
    "y_ = tf.placeholder(tf.float32, shape=[None, 10])"
   ]
  },
  {
   "cell_type": "code",
   "execution_count": 12,
   "metadata": {},
   "outputs": [
    {
     "name": "stdout",
     "output_type": "stream",
     "text": [
      "Completed constructing graph of SimpleCNN.\n",
      "Here!!\n",
      "Defined loss and opitimization function.\n"
     ]
    }
   ],
   "source": [
    "# instantiate new model\n",
    "model = Model(x, y_) # simple 2-layer network\n",
    "# print(model.var_list)\n",
    "# print(tf.trainable_variables())"
   ]
  },
  {
   "cell_type": "code",
   "execution_count": 13,
   "metadata": {},
   "outputs": [
    {
     "name": "stdout",
     "output_type": "stream",
     "text": [
      "[<tf.Variable 'conv1/kernels:0' shape=(5, 5, 1, 32) dtype=float32_ref>, <tf.Variable 'conv1/biases:0' shape=(32,) dtype=float32_ref>, <tf.Variable 'conv1/batch_norm/gamma:0' shape=(32,) dtype=float32_ref>, <tf.Variable 'conv1/batch_norm/beta:0' shape=(32,) dtype=float32_ref>, <tf.Variable 'conv2/kernels:0' shape=(5, 5, 32, 64) dtype=float32_ref>, <tf.Variable 'conv2/biases:0' shape=(64,) dtype=float32_ref>, <tf.Variable 'conv2/batch_norm/gamma:0' shape=(64,) dtype=float32_ref>, <tf.Variable 'conv2/batch_norm/beta:0' shape=(64,) dtype=float32_ref>, <tf.Variable 'fc1/weights:0' shape=(3136, 1024) dtype=float32_ref>, <tf.Variable 'fc1/biases:0' shape=(1024,) dtype=float32_ref>, <tf.Variable 'softmax_linear/weights:0' shape=(1024, 10) dtype=float32_ref>, <tf.Variable 'softmax_linear/biases:0' shape=(10,) dtype=float32_ref>]\n",
      "<tf.Variable 'conv1/batch_norm/beta:0' shape=(32,) dtype=float32_ref>\n",
      "[0. 0. 0. 0. 0. 0. 0. 0. 0. 0. 0. 0. 0. 0. 0. 0. 0. 0. 0. 0. 0. 0. 0. 0.\n",
      " 0. 0. 0. 0. 0. 0. 0. 0.]\n",
      "<tf.Variable 'conv2/batch_norm/beta:0' shape=(64,) dtype=float32_ref>\n",
      "[0. 0. 0. 0. 0. 0. 0. 0. 0. 0. 0. 0. 0. 0. 0. 0. 0. 0. 0. 0. 0. 0. 0. 0.\n",
      " 0. 0. 0. 0. 0. 0. 0. 0. 0. 0. 0. 0. 0. 0. 0. 0. 0. 0. 0. 0. 0. 0. 0. 0.\n",
      " 0. 0. 0. 0. 0. 0. 0. 0. 0. 0. 0. 0. 0. 0. 0. 0.]\n",
      "2\n"
     ]
    }
   ],
   "source": [
    "# initialize variables\n",
    "sess.run(tf.global_variables_initializer())\n",
    "# tf.global_variables_initializer().run()\n",
    "# sess.run(tf.initialize_all_variables())\n",
    "print(model.var_list)\n",
    "count = 0 \n",
    "for param in model.var_list: \n",
    "    if(param.eval().any() == 0):\n",
    "        count += 1\n",
    "        print(param)\n",
    "        print(param.eval())\n",
    "print(count)"
   ]
  },
  {
   "cell_type": "markdown",
   "metadata": {},
   "source": [
    "#### train on task A, test on task A"
   ]
  },
  {
   "cell_type": "code",
   "execution_count": 14,
   "metadata": {
    "scrolled": true
   },
   "outputs": [
    {
     "data": {
      "image/png": "[encoded data removed]",
      "text/plain": [
       "<matplotlib.figure.Figure at 0x7fcdf4bbf790>"
      ]
     },
     "metadata": {},
     "output_type": "display_data"
    }
   ],
   "source": [
    "# training 1st task\n",
    "train_task2(model, 800, 20, mnist, [mnist], x, y_, lams=[0])"
   ]
  },
  {
   "cell_type": "code",
   "execution_count": 15,
   "metadata": {},
   "outputs": [
    {
     "name": "stdout",
     "output_type": "stream",
     "text": [
      "[<tf.Variable 'conv1/kernels:0' shape=(5, 5, 1, 32) dtype=float32_ref>, <tf.Variable 'conv1/biases:0' shape=(32,) dtype=float32_ref>, <tf.Variable 'conv1/batch_norm/gamma:0' shape=(32,) dtype=float32_ref>, <tf.Variable 'conv1/batch_norm/beta:0' shape=(32,) dtype=float32_ref>, <tf.Variable 'conv2/kernels:0' shape=(5, 5, 32, 64) dtype=float32_ref>, <tf.Variable 'conv2/biases:0' shape=(64,) dtype=float32_ref>, <tf.Variable 'conv2/batch_norm/gamma:0' shape=(64,) dtype=float32_ref>, <tf.Variable 'conv2/batch_norm/beta:0' shape=(64,) dtype=float32_ref>, <tf.Variable 'fc1/weights:0' shape=(3136, 1024) dtype=float32_ref>, <tf.Variable 'fc1/biases:0' shape=(1024,) dtype=float32_ref>, <tf.Variable 'softmax_linear/weights:0' shape=(1024, 10) dtype=float32_ref>, <tf.Variable 'softmax_linear/biases:0' shape=(10,) dtype=float32_ref>]\n",
      "0\n"
     ]
    }
   ],
   "source": [
    "# Check for zero variable \n",
    "print(model.var_list)\n",
    "count = 0 \n",
    "for param in model.var_list: \n",
    "    if(param.eval().any() == 0):\n",
    "        count += 1\n",
    "        print(param)\n",
    "        print(param.eval())\n",
    "        model.var_list.remove(param)\n",
    "print(count)\n"
   ]
  },
  {
   "cell_type": "code",
   "execution_count": 16,
   "metadata": {},
   "outputs": [
    {
     "data": {
      "image/png": "[encoded data removed]",
      "text/plain": [
       "<matplotlib.figure.Figure at 0x7fcdf9565a50>"
      ]
     },
     "metadata": {},
     "output_type": "display_data"
    }
   ],
   "source": [
    "compute_fisher(mnist.validation, sess, num_samples=200, plot_diffs=True) # use validation set for Fisher computation\n",
    "# model.compute_fisher(mnist.validation, sess, num_samples=200, plot_diffs=True) # use validation set for Fisher computation"
   ]
  },
  {
   "cell_type": "code",
   "execution_count": 17,
   "metadata": {
    "scrolled": false
   },
   "outputs": [
    {
     "name": "stdout",
     "output_type": "stream",
     "text": [
      "12\n"
     ]
    },
    {
     "ename": "AttributeError",
     "evalue": "Model instance has no attribute 'star_vars'",
     "output_type": "error",
     "traceback": [
      "\u001b[0;31m---------------------------------------------------------------------------\u001b[0m",
      "\u001b[0;31mAttributeError\u001b[0m                            Traceback (most recent call last)",
      "\u001b[0;32m<ipython-input-17-d508f5ab6d15>\u001b[0m in \u001b[0;36m<module>\u001b[0;34m()\u001b[0m\n\u001b[1;32m      2\u001b[0m \u001b[0;31m# print(model.var_list[0].eval())\u001b[0m\u001b[0;34m\u001b[0m\u001b[0;34m\u001b[0m\u001b[0m\n\u001b[1;32m      3\u001b[0m \u001b[0;32mprint\u001b[0m\u001b[0;34m(\u001b[0m\u001b[0mlen\u001b[0m\u001b[0;34m(\u001b[0m\u001b[0mmodel\u001b[0m\u001b[0;34m.\u001b[0m\u001b[0mvar_list\u001b[0m\u001b[0;34m)\u001b[0m\u001b[0;34m)\u001b[0m\u001b[0;34m\u001b[0m\u001b[0m\n\u001b[0;32m----> 4\u001b[0;31m \u001b[0mtest\u001b[0m \u001b[0;34m=\u001b[0m \u001b[0mtf\u001b[0m\u001b[0;34m.\u001b[0m\u001b[0mreduce_sum\u001b[0m\u001b[0;34m(\u001b[0m\u001b[0mtf\u001b[0m\u001b[0;34m.\u001b[0m\u001b[0mmultiply\u001b[0m\u001b[0;34m(\u001b[0m\u001b[0mmodel\u001b[0m\u001b[0;34m.\u001b[0m\u001b[0mF_accum\u001b[0m\u001b[0;34m[\u001b[0m\u001b[0;36m1\u001b[0m\u001b[0;34m]\u001b[0m\u001b[0;34m.\u001b[0m\u001b[0mastype\u001b[0m\u001b[0;34m(\u001b[0m\u001b[0mnp\u001b[0m\u001b[0;34m.\u001b[0m\u001b[0mfloat32\u001b[0m\u001b[0;34m)\u001b[0m\u001b[0;34m,\u001b[0m\u001b[0mtf\u001b[0m\u001b[0;34m.\u001b[0m\u001b[0msquare\u001b[0m\u001b[0;34m(\u001b[0m\u001b[0mmodel\u001b[0m\u001b[0;34m.\u001b[0m\u001b[0mvar_list\u001b[0m\u001b[0;34m[\u001b[0m\u001b[0;36m1\u001b[0m\u001b[0;34m]\u001b[0m \u001b[0;34m-\u001b[0m \u001b[0mmodel\u001b[0m\u001b[0;34m.\u001b[0m\u001b[0mstar_vars\u001b[0m\u001b[0;34m[\u001b[0m\u001b[0;36m1\u001b[0m\u001b[0;34m]\u001b[0m\u001b[0;34m)\u001b[0m\u001b[0;34m)\u001b[0m\u001b[0;34m)\u001b[0m\u001b[0;34m\u001b[0m\u001b[0m\n\u001b[0m\u001b[1;32m      5\u001b[0m \u001b[0;32mprint\u001b[0m\u001b[0;34m(\u001b[0m\u001b[0mtest\u001b[0m\u001b[0;34m.\u001b[0m\u001b[0meval\u001b[0m\u001b[0;34m(\u001b[0m\u001b[0;34m)\u001b[0m\u001b[0;34m)\u001b[0m\u001b[0;34m\u001b[0m\u001b[0m\n\u001b[1;32m      6\u001b[0m \u001b[0;31m# F_row_mean = np.mean(model.F_accum[0], 1)\u001b[0m\u001b[0;34m\u001b[0m\u001b[0;34m\u001b[0m\u001b[0m\n",
      "\u001b[0;31mAttributeError\u001b[0m: Model instance has no attribute 'star_vars'"
     ]
    }
   ],
   "source": [
    "# print(model.star_vars[0])\n",
    "# print(model.var_list[0].eval())\n",
    "print(len(model.var_list))\n",
    "test = tf.reduce_sum(tf.multiply(model.F_accum[1].astype(np.float32),tf.square(model.var_list[1] - model.star_vars[1])))\n",
    "print(test.eval())\n",
    "# F_row_mean = np.mean(model.F_accum[0], 1)\n",
    "# mnist_imshow(F_row_mean)\n",
    "# plt.title(\"W1 row-wise mean Fisher\");"
   ]
  },
  {
   "cell_type": "markdown",
   "metadata": {},
   "source": [
    "#### train on task B, test on tasks A and B"
   ]
  },
  {
   "cell_type": "code",
   "execution_count": 18,
   "metadata": {},
   "outputs": [
    {
     "data": {
      "image/png": "[encoded data removed]",
      "text/plain": [
       "<matplotlib.figure.Figure at 0x7fcae1b0c6d0>"
      ]
     },
     "metadata": {},
     "output_type": "display_data"
    }
   ],
   "source": [
    "# permuting mnist for 2nd task\n",
    "mnist2 = permute_mnist(mnist)\n",
    "\n",
    "plt.subplot(1,2,1)\n",
    "mnist_imshow(mnist.train.images[5])\n",
    "plt.title(\"original task image\")\n",
    "plt.subplot(1,2,2)\n",
    "mnist_imshow(mnist2.train.images[5])\n",
    "plt.title(\"new task image\");"
   ]
  },
  {
   "cell_type": "code",
   "execution_count": 19,
   "metadata": {},
   "outputs": [],
   "source": [
    "# save current optimal weights\n",
    "model.star()"
   ]
  },
  {
   "cell_type": "code",
   "execution_count": null,
   "metadata": {},
   "outputs": [
    {
     "data": {
      "image/png": "[encoded data removed]",
      "text/plain": [
       "<matplotlib.figure.Figure at 0x7fcae2845710>"
      ]
     },
     "metadata": {},
     "output_type": "display_data"
    }
   ],
   "source": [
    "# training 2nd task\n",
    "train_task2(model, 800, 20, mnist2, [mnist, mnist2], x, y_, lams=[0, 15])"
   ]
  },
  {
   "cell_type": "code",
   "execution_count": 21,
   "metadata": {},
   "outputs": [
    {
     "data": {
      "image/png": "[encoded data removed]",
      "text/plain": [
       "<matplotlib.figure.Figure at 0x7f0bbc3d73d0>"
      ]
     },
     "metadata": {},
     "output_type": "display_data"
    }
   ],
   "source": [
    "# Fisher information for 2nd task\n",
    "model.compute_fisher(mnist2.validation.images, sess, num_samples=200, plot_diffs=True)"
   ]
  },
  {
   "cell_type": "code",
   "execution_count": 22,
   "metadata": {},
   "outputs": [
    {
     "data": {
      "image/png": "[encoded data removed]",
      "text/plain": [
       "<matplotlib.figure.Figure at 0x7f0bb8bf6910>"
      ]
     },
     "metadata": {},
     "output_type": "display_data"
    }
   ],
   "source": [
    "F_row_mean = np.mean(model.F_accum[0], 1)\n",
    "mnist_imshow(F_row_mean)\n",
    "plt.title(\"W1 row-wise mean Fisher\");"
   ]
  },
  {
   "cell_type": "markdown",
   "metadata": {},
   "source": [
    "#### train on task C, test on tasks A, B, and C"
   ]
  },
  {
   "cell_type": "code",
   "execution_count": 23,
   "metadata": {},
   "outputs": [],
   "source": [
    "# permuting mnist for 3rd task\n",
    "mnist3 = permute_mnist(mnist)"
   ]
  },
  {
   "cell_type": "code",
   "execution_count": 24,
   "metadata": {},
   "outputs": [],
   "source": [
    "# save current optimal weights\n",
    "model.star()"
   ]
  },
  {
   "cell_type": "code",
   "execution_count": 25,
   "metadata": {},
   "outputs": [
    {
     "data": {
      "image/png": "[encoded data removed]",
      "text/plain": [
       "<matplotlib.figure.Figure at 0x7f0bbcdfb1d0>"
      ]
     },
     "metadata": {},
     "output_type": "display_data"
    }
   ],
   "source": [
    "# training 3rd task\n",
    "train_task(model, 800, 20, mnist3, [mnist, mnist2, mnist3], x, y_, lams=[0, 15])"
   ]
  },
  {
   "cell_type": "code",
   "execution_count": null,
   "metadata": {},
   "outputs": [],
   "source": []
  }
 ],
 "metadata": {
  "anaconda-cloud": {},
  "kernelspec": {
   "display_name": "Python 2",
   "language": "python",
   "name": "python2"
  },
  "language_info": {
   "codemirror_mode": {
    "name": "ipython",
    "version": 2
   },
   "file_extension": ".py",
   "mimetype": "text/x-python",
   "name": "python",
   "nbconvert_exporter": "python",
   "pygments_lexer": "ipython2",
   "version": "2.7.12"
  }
 },
 "nbformat": 4,
 "nbformat_minor": 1
}
